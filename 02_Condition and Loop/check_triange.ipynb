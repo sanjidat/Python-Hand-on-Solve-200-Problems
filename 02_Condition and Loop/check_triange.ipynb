{
 "cells": [
  {
   "cell_type": "code",
   "execution_count": null,
   "metadata": {
    "collapsed": true,
    "jupyter": {
     "outputs_hidden": true
    }
   },
   "outputs": [],
   "source": [
    "# ---------------------------------------------------------------\n",
    "# python best courses https://courses.tanpham.org/\n",
    "# ---------------------------------------------------------------\n",
    "# Write a Python program to check a triangle is valid or not\n",
    "\n",
    "# A triangle is valid only if the sum of any two sides is greater than the third side.\n",
    "\n",
    "a = float(input(\"Enter the Length of side a: \"))\n",
    "b = float(input(\"Enter the Length of side b: \"))\n",
    "c = float(input(\"Enter the Length of side c: \"))\n",
    "\n",
    "if (a+b>c and b+c>a and c+a>b):\n",
    "    print"
   ]
  }
 ],
 "metadata": {
  "kernelspec": {
   "display_name": "Python 3 (ipykernel)",
   "language": "python",
   "name": "python3"
  },
  "language_info": {
   "codemirror_mode": {
    "name": "ipython",
    "version": 3
   },
   "file_extension": ".py",
   "mimetype": "text/x-python",
   "name": "python",
   "nbconvert_exporter": "python",
   "pygments_lexer": "ipython3",
   "version": "3.12.7"
  }
 },
 "nbformat": 4,
 "nbformat_minor": 4
}
