{
 "cells": [
  {
   "cell_type": "code",
   "execution_count": 2,
   "metadata": {},
   "outputs": [
    {
     "name": "stdout",
     "output_type": "stream",
     "text": [
      "Plain_Text :  defend the east wall of the castle\n",
      "Cipher_Text :  efgfoe uif fbtu xbmm pg uif dbtumf\n"
     ]
    }
   ],
   "source": [
    "# ---------------------------------------------------------------\n",
    "# python best courses https://courses.tanpham.org/\n",
    "# ---------------------------------------------------------------\n",
    "# Write a Python program to create a Caesar encryption\n",
    "\n",
    "# Note : In cryptography, a Caesar cipher, also known as Caesar's cipher, the shift cipher, Caesar's code or Caesar shift, is one of the simplest and most widely known encryption techniques.\n",
    "# It is a type of substitution cipher in which each letter in the plaintext is replaced by a letter some fixed number of positions down the alphabet.\n",
    "# For example, with a left shift of 3, D would be replaced by A, E would become B, and so on.\n",
    "# The method is named after Julius Caesar, who used it in his private correspondence.\n",
    "\n",
    "# plaintext:  defend the east wall of the castle\n",
    "# ciphertext: efgfoe uif fbtu xbmm pg uif dbtumf\n",
    "\n",
    "def caesar_encryption(text,shift):\n",
    "    alphabet = 'abcdefghijklmnopqrstuvwxzy'\n",
    "    result = ''\n",
    "\n",
    "    for char in text:\n",
    "        if char in alphabet:\n",
    "            index  = (alphabet.index(char)+ shift) % 26\n",
    "            result +=alphabet[index]\n",
    "        else:\n",
    "            result += char\n",
    "    return result\n",
    "\n",
    "plaintext  = \"defend the east wall of the castle\"\n",
    "ciphertext = caesar_encryption(plaintext, 1)\n",
    "\n",
    "print(\"Plain_Text : \", plaintext)\n",
    "print(\"Cipher_Text : \", ciphertext)\n",
    "    "
   ]
  },
  {
   "cell_type": "code",
   "execution_count": null,
   "metadata": {},
   "outputs": [],
   "source": []
  },
  {
   "cell_type": "code",
   "execution_count": null,
   "metadata": {},
   "outputs": [],
   "source": []
  }
 ],
 "metadata": {
  "kernelspec": {
   "display_name": "Python 3 (ipykernel)",
   "language": "python",
   "name": "python3"
  },
  "language_info": {
   "codemirror_mode": {
    "name": "ipython",
    "version": 3
   },
   "file_extension": ".py",
   "mimetype": "text/x-python",
   "name": "python",
   "nbconvert_exporter": "python",
   "pygments_lexer": "ipython3",
   "version": "3.12.7"
  }
 },
 "nbformat": 4,
 "nbformat_minor": 4
}
