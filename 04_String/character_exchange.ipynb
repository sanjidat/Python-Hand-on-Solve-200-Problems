{
 "cells": [
  {
   "cell_type": "code",
   "execution_count": 4,
   "metadata": {},
   "outputs": [
    {
     "name": "stdout",
     "output_type": "stream",
     "text": [
      "nythop\n",
      "52341\n",
      " \n"
     ]
    }
   ],
   "source": [
    "#  Write a Python program to change a given string to a new string where the first and last chars have been exchanged\n",
    "\n",
    "def charac_exchange(str):\n",
    "    if len(str) < 2:\n",
    "        return str\n",
    "    return str[-1] + str[1:-1] + str[0]\n",
    "\n",
    "print(charac_exchange(\"python\"))\n",
    "print(charac_exchange(\"12345\"))\n",
    "print(charac_exchange(\" \"))"
   ]
  },
  {
   "cell_type": "code",
   "execution_count": null,
   "metadata": {},
   "outputs": [],
   "source": []
  },
  {
   "cell_type": "code",
   "execution_count": null,
   "metadata": {},
   "outputs": [],
   "source": []
  }
 ],
 "metadata": {
  "kernelspec": {
   "display_name": "Python 3 (ipykernel)",
   "language": "python",
   "name": "python3"
  },
  "language_info": {
   "codemirror_mode": {
    "name": "ipython",
    "version": 3
   },
   "file_extension": ".py",
   "mimetype": "text/x-python",
   "name": "python",
   "nbconvert_exporter": "python",
   "pygments_lexer": "ipython3",
   "version": "3.12.7"
  }
 },
 "nbformat": 4,
 "nbformat_minor": 4
}
