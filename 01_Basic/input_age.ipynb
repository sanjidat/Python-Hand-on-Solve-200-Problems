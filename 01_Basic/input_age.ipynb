{
 "cells": [
  {
   "cell_type": "code",
   "execution_count": 5,
   "metadata": {},
   "outputs": [
    {
     "name": "stdin",
     "output_type": "stream",
     "text": [
      "Enter your name:  Lisa\n",
      "Enter your age :  10\n"
     ]
    },
    {
     "name": "stdout",
     "output_type": "stream",
     "text": [
      "Lisa will be 100 years old in 2115\n"
     ]
    }
   ],
   "source": [
    "# ---------------------------------------------------------------\n",
    "# python best courses https://courses.tanpham.org/\n",
    "# ---------------------------------------------------------------\n",
    "# Create a program that asks the user to enter their name and their age.\n",
    "# Print out a message addressed to them that tells them the year that they will turn 100 years old.\n",
    "\n",
    "\n",
    "name = input(\"Enter your name: \")\n",
    "age  = int(input(\"Enter your age : \"))\n",
    "\n",
    "year = str((2025 - age) + 100)\n",
    "\n",
    "print(name + \" will be 100 years old in \" + year)"
   ]
  },
  {
   "cell_type": "code",
   "execution_count": null,
   "metadata": {},
   "outputs": [],
   "source": []
  }
 ],
 "metadata": {
  "kernelspec": {
   "display_name": "Python 3 (ipykernel)",
   "language": "python",
   "name": "python3"
  },
  "language_info": {
   "codemirror_mode": {
    "name": "ipython",
    "version": 3
   },
   "file_extension": ".py",
   "mimetype": "text/x-python",
   "name": "python",
   "nbconvert_exporter": "python",
   "pygments_lexer": "ipython3",
   "version": "3.12.7"
  }
 },
 "nbformat": 4,
 "nbformat_minor": 4
}
