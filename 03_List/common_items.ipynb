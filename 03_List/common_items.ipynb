{
 "cells": [
  {
   "cell_type": "code",
   "execution_count": 3,
   "metadata": {},
   "outputs": [
    {
     "name": "stdout",
     "output_type": "stream",
     "text": [
      "{'Green', 'White'}\n"
     ]
    }
   ],
   "source": [
    "# Write a Python program to find common items from two lists.\n",
    "# input\n",
    "# color1 = \"Red\", \"Green\", \"Orange\", \"White\"\n",
    "# color2 = \"Black\", \"Green\", \"White\", \"Pink\"\n",
    "# output\n",
    "# {'Green', 'White'}\n",
    "\n",
    "color1 = [\"Red\", \"Green\", \"Orange\", \"White\"]\n",
    "color2 = [\"Black\", \"Green\", \"White\", \"Pink\"]\n",
    "\n",
    "common_colors = set(color1) & set(color2)\n",
    "\n",
    "print(common_colors)"
   ]
  },
  {
   "cell_type": "code",
   "execution_count": null,
   "metadata": {},
   "outputs": [],
   "source": []
  }
 ],
 "metadata": {
  "kernelspec": {
   "display_name": "Python 3 (ipykernel)",
   "language": "python",
   "name": "python3"
  },
  "language_info": {
   "codemirror_mode": {
    "name": "ipython",
    "version": 3
   },
   "file_extension": ".py",
   "mimetype": "text/x-python",
   "name": "python",
   "nbconvert_exporter": "python",
   "pygments_lexer": "ipython3",
   "version": "3.12.7"
  }
 },
 "nbformat": 4,
 "nbformat_minor": 4
}
