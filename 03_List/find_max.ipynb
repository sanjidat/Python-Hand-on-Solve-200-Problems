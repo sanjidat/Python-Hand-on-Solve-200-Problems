{
 "cells": [
  {
   "cell_type": "code",
   "execution_count": 1,
   "metadata": {},
   "outputs": [
    {
     "name": "stdout",
     "output_type": "stream",
     "text": [
      "2\n"
     ]
    }
   ],
   "source": [
    "# Write a Python program to get the smallest number from a list.\n",
    "# max_num_in_list([1, 2, -8, 0])\n",
    "# return 2\n",
    "\n",
    "def max_num_in_list(list):\n",
    "    max = list [0]\n",
    "    for i in list:\n",
    "        if i > max:\n",
    "            max = i\n",
    "    return max\n",
    "\n",
    "a = max_num_in_list([1, 2, -8, 0])\n",
    "print(a)"
   ]
  },
  {
   "cell_type": "code",
   "execution_count": null,
   "metadata": {},
   "outputs": [],
   "source": []
  }
 ],
 "metadata": {
  "kernelspec": {
   "display_name": "Python 3 (ipykernel)",
   "language": "python",
   "name": "python3"
  },
  "language_info": {
   "codemirror_mode": {
    "name": "ipython",
    "version": 3
   },
   "file_extension": ".py",
   "mimetype": "text/x-python",
   "name": "python",
   "nbconvert_exporter": "python",
   "pygments_lexer": "ipython3",
   "version": "3.12.7"
  }
 },
 "nbformat": 4,
 "nbformat_minor": 4
}
